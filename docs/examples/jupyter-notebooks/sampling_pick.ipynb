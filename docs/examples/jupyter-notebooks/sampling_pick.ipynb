{
 "cells": [
  {
   "cell_type": "markdown",
   "metadata": {},
   "source": [
    "## Pick Sampling"
   ]
  },
  {
   "cell_type": "code",
   "execution_count": 1,
   "metadata": {},
   "outputs": [
    {
     "data": {
      "text/html": [
       "\n",
       "            <div id=\"ACNv5Q\"></div>\n",
       "            <script type=\"text/javascript\" data-lets-plot-script=\"library\">\n",
       "                if(!window.letsPlotCallQueue) {\n",
       "                    window.letsPlotCallQueue = [];\n",
       "                }; \n",
       "                window.letsPlotCall = function(f) {\n",
       "                    window.letsPlotCallQueue.push(f);\n",
       "                };\n",
       "                (function() {\n",
       "                    var script = document.createElement(\"script\");\n",
       "                    script.type = \"text/javascript\";\n",
       "                    script.src = \"https://cdn.jsdelivr.net/gh/JetBrains/lets-plot@v2.0.3/js-package/distr/lets-plot.min.js\";\n",
       "                    script.onload = function() {\n",
       "                        window.letsPlotCall = function(f) {f();};\n",
       "                        window.letsPlotCallQueue.forEach(function(f) {f();});\n",
       "                        window.letsPlotCallQueue = [];\n",
       "                        \n",
       "                    };\n",
       "                    script.onerror = function(event) {\n",
       "                        window.letsPlotCall = function(f) {};    // noop\n",
       "                        window.letsPlotCallQueue = [];\n",
       "                        var div = document.createElement(\"div\");\n",
       "                        div.style.color = 'darkred';\n",
       "                        div.textContent = 'Error loading Lets-Plot JS';\n",
       "                        document.getElementById(\"ACNv5Q\").appendChild(div);\n",
       "                    };\n",
       "                    var e = document.getElementById(\"ACNv5Q\");\n",
       "                    e.appendChild(script);\n",
       "                })()\n",
       "            </script>\n",
       "            "
      ]
     },
     "metadata": {},
     "output_type": "display_data"
    }
   ],
   "source": [
    "import numpy as np\n",
    "from lets_plot import *\n",
    "import random, string\n",
    "\n",
    "LetsPlot.setup_html()"
   ]
  },
  {
   "cell_type": "code",
   "execution_count": 2,
   "metadata": {},
   "outputs": [],
   "source": [
    "def gen_word(length):\n",
    "    letters = string.ascii_lowercase\n",
    "    return ''.join(random.choice(letters) for _ in range(length))\n",
    "\n",
    "def gen_word_set(n):\n",
    "    random.seed(1)\n",
    "    word_set = set()\n",
    "    while len(word_set) < n:\n",
    "        word_set.add(gen_word(5))\n",
    "    return word_set\n",
    "\n",
    "def data(n, word_set):\n",
    "    word_choice = list(word_set)\n",
    "    words=[]\n",
    "    groups = []\n",
    "    for _ in range(n):\n",
    "        words.append(np.random.choice(word_choice))\n",
    "        groups.append(np.random.choice(['a','b','c']))\n",
    "\n",
    "    return dict(word=words, g=groups)"
   ]
  },
  {
   "cell_type": "code",
   "execution_count": 3,
   "metadata": {},
   "outputs": [],
   "source": [
    "# Number of unique words exceeds threshold (50) of default 'pick' sampling on bar chart.\n",
    "N = 500\n",
    "word_set = gen_word_set(N)\n",
    "dat = data(1000, word_set)\n",
    "p = ggplot(dat, aes(x='word'))"
   ]
  },
  {
   "cell_type": "code",
   "execution_count": 4,
   "metadata": {},
   "outputs": [
    {
     "data": {
      "text/html": [
       "   <div id=\"zrOxJC\"></div>\n",
       "   <script type=\"text/javascript\" data-lets-plot-script=\"plot\">\n",
       "       (function() {\n",
       "           var plotSpec={\n",
       "\"data\":{\n",
       "},\n",
       "\"mapping\":{\n",
       "\"x\":\"word\"\n",
       "},\n",
       "\"data_meta\":{\n",
       "},\n",
       "\"kind\":\"plot\",\n",
       "\"scales\":[],\n",
       "\"layers\":[{\n",
       "\"geom\":\"bar\",\n",
       "\"mapping\":{\n",
       "},\n",
       "\"sampling\":\"none\",\n",
       "\"data_meta\":{\n",
       "},\n",
       "\"data\":{\n",
       "\"..count..\":[4.0,3.0,1.0,1.0,5.0,2.0,4.0,4.0,3.0,4.0,1.0,3.0,3.0,3.0,5.0,3.0,1.0,3.0,1.0,2.0,4.0,4.0,1.0,2.0,3.0,2.0,2.0,1.0,5.0,1.0,3.0,2.0,3.0,3.0,2.0,3.0,1.0,1.0,5.0,3.0,4.0,1.0,4.0,7.0,4.0,2.0,6.0,3.0,1.0,3.0,3.0,1.0,3.0,3.0,3.0,2.0,1.0,3.0,3.0,3.0,4.0,2.0,3.0,4.0,2.0,1.0,2.0,2.0,4.0,4.0,2.0,5.0,2.0,3.0,2.0,3.0,1.0,3.0,7.0,5.0,5.0,3.0,2.0,3.0,3.0,3.0,3.0,3.0,2.0,1.0,5.0,3.0,4.0,3.0,2.0,3.0,2.0,1.0,3.0,3.0,4.0,3.0,4.0,2.0,1.0,4.0,3.0,2.0,5.0,2.0,1.0,3.0,3.0,3.0,2.0,4.0,3.0,1.0,4.0,1.0,3.0,4.0,2.0,4.0,3.0,1.0,3.0,3.0,2.0,1.0,1.0,2.0,1.0,2.0,4.0,2.0,2.0,1.0,3.0,5.0,8.0,1.0,1.0,2.0,2.0,1.0,4.0,3.0,2.0,2.0,2.0,2.0,1.0,1.0,2.0,1.0,3.0,4.0,2.0,3.0,5.0,3.0,3.0,2.0,2.0,3.0,4.0,1.0,4.0,3.0,4.0,5.0,2.0,2.0,4.0,1.0,2.0,2.0,1.0,1.0,2.0,2.0,1.0,3.0,1.0,2.0,4.0,1.0,1.0,4.0,4.0,2.0,4.0,3.0,5.0,1.0,4.0,2.0,3.0,5.0,5.0,1.0,3.0,2.0,4.0,1.0,1.0,2.0,1.0,2.0,5.0,3.0,5.0,2.0,4.0,1.0,4.0,2.0,3.0,1.0,2.0,2.0,1.0,1.0,2.0,2.0,1.0,2.0,4.0,3.0,2.0,3.0,2.0,3.0,2.0,3.0,1.0,2.0,2.0,2.0,4.0,3.0,1.0,2.0,2.0,3.0,2.0,3.0,1.0,1.0,2.0,4.0,5.0,2.0,1.0,4.0,3.0,4.0,2.0,3.0,1.0,2.0,2.0,2.0,1.0,6.0,4.0,2.0,2.0,6.0,2.0,3.0,1.0,2.0,1.0,4.0,4.0,1.0,1.0,4.0,3.0,4.0,4.0,1.0,1.0,3.0,4.0,2.0,3.0,1.0,3.0,4.0,2.0,3.0,2.0,2.0,2.0,3.0,4.0,3.0,4.0,3.0,1.0,1.0,3.0,2.0,3.0,2.0,2.0,3.0,1.0,1.0,2.0,2.0,3.0,2.0,3.0,1.0,3.0,2.0,3.0,2.0,1.0,4.0,3.0,1.0,1.0,1.0,1.0,2.0,2.0,1.0,2.0,1.0,2.0,1.0,1.0,2.0,1.0,1.0,1.0,1.0,3.0,1.0,1.0,1.0,1.0,2.0,1.0,1.0,1.0,1.0,1.0,1.0,1.0,2.0,2.0,2.0,2.0,1.0,1.0,2.0,1.0,2.0,1.0,1.0,1.0,3.0,1.0,1.0,2.0,1.0,1.0,2.0,2.0,3.0,1.0,2.0,2.0,1.0,1.0,1.0,2.0,3.0,2.0,1.0,1.0,1.0,2.0,2.0,1.0,3.0,2.0,2.0,1.0,1.0,2.0,1.0,1.0,1.0,1.0,1.0,1.0,1.0,1.0,1.0,2.0,2.0,1.0,2.0,1.0,1.0,1.0,1.0,2.0,1.0,1.0,1.0,1.0,1.0,1.0,1.0,1.0,2.0,1.0,1.0,1.0,1.0,1.0,1.0,1.0,1.0,1.0,1.0],\n",
       "\"word\":[\"omdte\",\"ivdmr\",\"eeihg\",\"afklg\",\"ulmqf\",\"ybtnn\",\"sgpdv\",\"lvrpy\",\"qtjeg\",\"pgmxr\",\"mqlgh\",\"evsbl\",\"lnlar\",\"rwmar\",\"kzxvs\",\"hpomy\",\"pxcin\",\"ukhmj\",\"uhbcy\",\"kxwqn\",\"zapkm\",\"tpdem\",\"hcurw\",\"uwxzh\",\"zdple\",\"ezvba\",\"doayn\",\"gotqn\",\"imcvs\",\"aucfo\",\"chhaz\",\"flntw\",\"kvhzv\",\"afqwf\",\"jxtko\",\"xqgtn\",\"inxrj\",\"rqhni\",\"whdhk\",\"okqzr\",\"zgvuc\",\"qewsi\",\"jsztc\",\"phwnk\",\"vlrgz\",\"brbqe\",\"otvqg\",\"terwk\",\"ldkbe\",\"hneei\",\"wpesr\",\"lsloi\",\"mwncc\",\"oixzh\",\"wkppd\",\"sjhkd\",\"vrtxa\",\"dwgmv\",\"hidzt\",\"exivg\",\"sjoje\",\"qdxio\",\"puzrg\",\"rbsgs\",\"zzlux\",\"kbaaz\",\"hsgqs\",\"gzblo\",\"lpxap\",\"ktodi\",\"uemxr\",\"rtszt\",\"gmufm\",\"drlfd\",\"xgwqw\",\"hmrmf\",\"lacem\",\"cxcau\",\"yajth\",\"ceffr\",\"qulfq\",\"uovux\",\"qbmgl\",\"ndygs\",\"ghkic\",\"spiee\",\"sdkaa\",\"ofvhf\",\"oixnf\",\"qdekx\",\"cgapu\",\"sabwl\",\"ejgvx\",\"oxplp\",\"lqavm\",\"vffye\",\"ymvqz\",\"yzgjj\",\"pxhuu\",\"lwibr\",\"mjqpa\",\"otazh\",\"xkyru\",\"qzass\",\"nxvsb\",\"ucqpq\",\"cwfin\",\"tqzss\",\"erxby\",\"xlivu\",\"dnush\",\"srjqn\",\"bsfvd\",\"naslp\",\"pdumm\",\"tkrqf\",\"rwyvx\",\"knyhz\",\"pgdnt\",\"bphxz\",\"agqos\",\"wqraj\",\"hquam\",\"ckbob\",\"uaapb\",\"giykt\",\"jeeqd\",\"srdoi\",\"zurkn\",\"twgfq\",\"nhqrg\",\"idpyo\",\"firba\",\"fsosx\",\"rtxui\",\"brtqe\",\"wqxto\",\"yvnmi\",\"mkqnl\",\"xeizm\",\"dgicu\",\"pkdgu\",\"oqrxb\",\"qvlyq\",\"rhlhv\",\"oljrm\",\"xuecq\",\"wikps\",\"fgkzs\",\"sedfy\",\"turch\",\"rrchm\",\"ixpbx\",\"lrrzx\",\"lnmjv\",\"hlcic\",\"bbzta\",\"cpucr\",\"wwazb\",\"divif\",\"myods\",\"pzitk\",\"qkdnl\",\"graiu\",\"xxqqa\",\"dgsvn\",\"wfdhm\",\"jipgp\",\"xgqqm\",\"mywoa\",\"euyzg\",\"kzksc\",\"gaxry\",\"jovee\",\"ujreb\",\"cxhiv\",\"yvacc\",\"dkkly\",\"ytali\",\"ktmja\",\"wjrlf\",\"gysmv\",\"bsmie\",\"xawdz\",\"mzxqz\",\"whzth\",\"amioi\",\"bkfkz\",\"ubmcr\",\"pemwd\",\"zztsd\",\"esesd\",\"tyyaw\",\"rgqnp\",\"nhzbq\",\"bjwts\",\"hmznm\",\"rxbqc\",\"mwmzg\",\"oqrxs\",\"iimsm\",\"ypgwp\",\"nbloa\",\"riltx\",\"nmtob\",\"xwgfj\",\"oljym\",\"mbxik\",\"couja\",\"lediy\",\"snmkt\",\"gsxyz\",\"serom\",\"eqyrg\",\"ftchp\",\"zgidi\",\"pykmo\",\"ukitx\",\"dayxv\",\"sxwxc\",\"uxjdx\",\"dgcba\",\"foqbi\",\"cejrx\",\"hbszs\",\"hhkpv\",\"ltphk\",\"dvkia\",\"nrmjh\",\"zadsx\",\"tcxlk\",\"rjcqj\",\"xbnog\",\"lcovq\",\"cdtqs\",\"iiuuh\",\"rnvcw\",\"yzkcq\",\"xlcur\",\"yocus\",\"mcsrh\",\"ftqgq\",\"rqntu\",\"rbuls\",\"cjjxf\",\"mqpcm\",\"pazun\",\"gwoaj\",\"ktzvr\",\"fkvhc\",\"wgcuc\",\"nwink\",\"lpbrp\",\"mnvfl\",\"swore\",\"estev\",\"dpamn\",\"xmmnv\",\"zekng\",\"cwqvl\",\"yueza\",\"wwxot\",\"egehx\",\"zylnm\",\"ruqbl\",\"amevr\",\"jfezm\",\"kadow\",\"wcyuh\",\"khdcv\",\"txqps\",\"cmzee\",\"ixtxy\",\"dpybu\",\"qdxsn\",\"rnrgw\",\"zfrlp\",\"fzeud\",\"vvwco\",\"dupbq\",\"mkpdf\",\"ziudi\",\"czrzi\",\"vomku\",\"bwswv\",\"rjriw\",\"rcrkk\",\"xdnmz\",\"rictz\",\"mcmzq\",\"ijvvz\",\"tlyoi\",\"bgnbb\",\"zytkp\",\"kzets\",\"feyew\",\"ajmkn\",\"zkcjb\",\"uupky\",\"lxuwh\",\"eiiil\",\"zhnfv\",\"dbsqa\",\"pdvef\",\"khiqb\",\"dzbgh\",\"ftyfx\",\"uyvxg\",\"spdeu\",\"hdses\",\"clcvo\",\"tvacn\",\"lvsyy\",\"txxxq\",\"ktxlh\",\"gztyr\",\"qhyop\",\"nrudf\",\"leszj\",\"ybwkn\",\"hdwgw\",\"drviw\",\"iuwjo\",\"tqdfh\",\"iriqi\",\"mlxfh\",\"msaqg\",\"etioq\",\"uzwqo\",\"bsqcs\",\"nrfbw\",\"xmcsz\",\"ziymr\",\"bufvv\",\"frgjg\",\"mgjzd\",\"scilj\",\"lszjn\",\"squcc\",\"yrrff\",\"juanx\",\"bxfow\",\"aauth\",\"zwnvr\",\"dyfqm\",\"qvsat\",\"nbpls\",\"egbjc\",\"sesee\",\"knxfr\",\"ulmjo\",\"nomrd\",\"rvnvx\",\"xwjwf\",\"amkfi\",\"wzjhg\",\"ktppk\",\"jwelp\",\"rhcxb\",\"uojyd\",\"jeoip\",\"vszkv\",\"qvnrh\",\"iaomz\",\"gnrut\",\"qvgjj\",\"sujmi\",\"wcmuw\",\"cifde\",\"dseqq\",\"gnira\",\"prthi\",\"zsnfd\",\"sjgmf\",\"zgufq\",\"fljcf\",\"raoyb\",\"oayyi\",\"neafi\",\"qoser\",\"iroro\",\"kitlb\",\"amndz\",\"vjnka\",\"ygvbp\",\"tphno\",\"czsrt\",\"tbbzk\",\"ydmux\",\"tvnil\",\"rtztk\",\"wdsap\",\"igfje\",\"djhty\",\"pzykl\",\"arjvy\",\"ahame\",\"eszyc\",\"nsiea\",\"pilei\",\"ardjq\",\"biydn\",\"facnt\",\"voznr\",\"zuxet\",\"hmcir\",\"fkoet\",\"vjcdh\",\"brgrn\",\"pumzg\",\"jqebo\",\"gjwwu\",\"sxklz\",\"fhhjo\",\"uqnfg\",\"yruoq\",\"ccxdj\",\"utara\",\"deewi\",\"rrhmq\",\"ufrsf\",\"uihgd\",\"jklik\",\"bqkqw\",\"tfejp\",\"auram\",\"ekjdw\",\"zifyc\",\"ppedq\",\"kkqzm\",\"rndvj\",\"niipw\",\"whitw\",\"sizhw\"]\n",
       "}\n",
       "}]\n",
       "};\n",
       "           var plotContainer = document.getElementById(\"zrOxJC\");\n",
       "           window.letsPlotCall(function() {{\n",
       "               LetsPlot.buildPlotFromProcessedSpecs(plotSpec, -1, -1, plotContainer);\n",
       "           }});\n",
       "       })();    \n",
       "   </script>"
      ],
      "text/plain": [
       "<lets_plot.plot.core.PlotSpec at 0x7ff3607edc50>"
      ]
     },
     "execution_count": 4,
     "metadata": {},
     "output_type": "execute_result"
    }
   ],
   "source": [
    "# Disable sampling to see the overplotting.\n",
    "p + geom_bar(sampling='none')"
   ]
  },
  {
   "cell_type": "code",
   "execution_count": 5,
   "metadata": {},
   "outputs": [
    {
     "data": {
      "text/html": [
       "   <div id=\"PnKgh1\"></div>\n",
       "   <script type=\"text/javascript\" data-lets-plot-script=\"plot\">\n",
       "       (function() {\n",
       "           var plotSpec={\n",
       "\"data\":{\n",
       "},\n",
       "\"mapping\":{\n",
       "\"x\":\"word\"\n",
       "},\n",
       "\"data_meta\":{\n",
       "},\n",
       "\"kind\":\"plot\",\n",
       "\"scales\":[],\n",
       "\"layers\":[{\n",
       "\"geom\":\"bar\",\n",
       "\"mapping\":{\n",
       "},\n",
       "\"data_meta\":{\n",
       "},\n",
       "\"data\":{\n",
       "\"..count..\":[4.0,3.0,1.0,1.0,5.0,2.0,4.0,4.0,3.0,4.0,1.0,3.0,3.0,3.0,5.0,3.0,1.0,3.0,1.0,2.0,4.0,4.0,1.0,2.0,3.0,2.0,2.0,1.0,5.0,1.0,3.0,2.0,3.0,3.0,2.0,3.0,1.0,1.0,5.0,3.0,4.0,1.0,4.0,7.0,4.0,2.0,6.0,3.0,1.0,3.0],\n",
       "\"word\":[\"omdte\",\"ivdmr\",\"eeihg\",\"afklg\",\"ulmqf\",\"ybtnn\",\"sgpdv\",\"lvrpy\",\"qtjeg\",\"pgmxr\",\"mqlgh\",\"evsbl\",\"lnlar\",\"rwmar\",\"kzxvs\",\"hpomy\",\"pxcin\",\"ukhmj\",\"uhbcy\",\"kxwqn\",\"zapkm\",\"tpdem\",\"hcurw\",\"uwxzh\",\"zdple\",\"ezvba\",\"doayn\",\"gotqn\",\"imcvs\",\"aucfo\",\"chhaz\",\"flntw\",\"kvhzv\",\"afqwf\",\"jxtko\",\"xqgtn\",\"inxrj\",\"rqhni\",\"whdhk\",\"okqzr\",\"zgvuc\",\"qewsi\",\"jsztc\",\"phwnk\",\"vlrgz\",\"brbqe\",\"otvqg\",\"terwk\",\"ldkbe\",\"hneei\"]\n",
       "}\n",
       "}],\n",
       "\"computation_messages\":[\"sampling_pick(n=50) was applied to [bar/count stat] layer\"]\n",
       "};\n",
       "           var plotContainer = document.getElementById(\"PnKgh1\");\n",
       "           window.letsPlotCall(function() {{\n",
       "               LetsPlot.buildPlotFromProcessedSpecs(plotSpec, -1, -1, plotContainer);\n",
       "           }});\n",
       "       })();    \n",
       "   </script>"
      ],
      "text/plain": [
       "<lets_plot.plot.core.PlotSpec at 0x7ff360938690>"
      ]
     },
     "execution_count": 5,
     "metadata": {},
     "output_type": "execute_result"
    }
   ],
   "source": [
    "# Draw plot with default sampling.\n",
    "p + geom_bar()"
   ]
  },
  {
   "cell_type": "code",
   "execution_count": 6,
   "metadata": {},
   "outputs": [
    {
     "data": {
      "text/html": [
       "   <div id=\"qpwu1K\"></div>\n",
       "   <script type=\"text/javascript\" data-lets-plot-script=\"plot\">\n",
       "       (function() {\n",
       "           var plotSpec={\n",
       "\"data\":{\n",
       "},\n",
       "\"mapping\":{\n",
       "\"x\":\"word\"\n",
       "},\n",
       "\"data_meta\":{\n",
       "},\n",
       "\"kind\":\"plot\",\n",
       "\"scales\":[],\n",
       "\"layers\":[{\n",
       "\"geom\":\"bar\",\n",
       "\"mapping\":{\n",
       "\"fill\":\"g\"\n",
       "},\n",
       "\"data_meta\":{\n",
       "},\n",
       "\"data\":{\n",
       "\"..count..\":[3.0,1.0,2.0,2.0,2.0,2.0,2.0,1.0,3.0,1.0,1.0,2.0,2.0,1.0,1.0,1.0,1.0,2.0,3.0,1.0,1.0,2.0,3.0,1.0,1.0,2.0,1.0,1.0,1.0,2.0,1.0,2.0,2.0,2.0,1.0,1.0,2.0,2.0,1.0,2.0,1.0,1.0,2.0,1.0,2.0,2.0,1.0,1.0,1.0,1.0,1.0,1.0,3.0,1.0,1.0,2.0,2.0,1.0,3.0,1.0,1.0,1.0,1.0,1.0,1.0,2.0,1.0,1.0,1.0,1.0,1.0,1.0,2.0,1.0,1.0,3.0,2.0,1.0,1.0,1.0,2.0,1.0,1.0,2.0,1.0,1.0,1.0,1.0,1.0,1.0,1.0,1.0,1.0,1.0],\n",
       "\"word\":[\"omdte\",\"eeihg\",\"ybtnn\",\"qtjeg\",\"evsbl\",\"hpomy\",\"tpdem\",\"hcurw\",\"zdple\",\"ezvba\",\"gotqn\",\"flntw\",\"kvhzv\",\"afqwf\",\"inxrj\",\"zgvuc\",\"jsztc\",\"phwnk\",\"otvqg\",\"mwncc\",\"hidzt\",\"puzrg\",\"rbsgs\",\"zzlux\",\"kbaaz\",\"uemxr\",\"xgwqw\",\"lacem\",\"qbmgl\",\"ghkic\",\"spiee\",\"ofvhf\",\"ejgvx\",\"oxplp\",\"ymvqz\",\"yzgjj\",\"pxhuu\",\"lwibr\",\"mjqpa\",\"otazh\",\"nxvsb\",\"cwfin\",\"srjqn\",\"okqzr\",\"naslp\",\"pdumm\",\"rwyvx\",\"knyhz\",\"bphxz\",\"agqos\",\"okqzr\",\"rbsgs\",\"phwnk\",\"pxhuu\",\"qtjeg\",\"mjqpa\",\"agqos\",\"lwibr\",\"otvqg\",\"ezvba\",\"cwfin\",\"rwyvx\",\"oxplp\",\"naslp\",\"evsbl\",\"tpdem\",\"qbmgl\",\"ejgvx\",\"mwncc\",\"zgvuc\",\"spiee\",\"srjqn\",\"hidzt\",\"hpomy\",\"mwncc\",\"jsztc\",\"zgvuc\",\"ghkic\",\"otazh\",\"puzrg\",\"afqwf\",\"mjqpa\",\"xgwqw\",\"phwnk\",\"ofvhf\",\"ejgvx\",\"spiee\",\"okqzr\",\"ymvqz\",\"omdte\",\"zzlux\",\"kvhzv\",\"cwfin\",\"rwyvx\"],\n",
       "\"g\":[\"a\",\"a\",\"a\",\"a\",\"a\",\"a\",\"a\",\"a\",\"a\",\"a\",\"a\",\"a\",\"a\",\"a\",\"a\",\"a\",\"a\",\"a\",\"a\",\"a\",\"a\",\"a\",\"a\",\"a\",\"a\",\"a\",\"a\",\"a\",\"a\",\"a\",\"a\",\"a\",\"a\",\"a\",\"a\",\"a\",\"a\",\"a\",\"a\",\"a\",\"a\",\"a\",\"a\",\"a\",\"a\",\"a\",\"a\",\"a\",\"a\",\"a\",\"c\",\"c\",\"c\",\"c\",\"c\",\"c\",\"c\",\"c\",\"c\",\"c\",\"c\",\"c\",\"c\",\"c\",\"c\",\"c\",\"c\",\"c\",\"c\",\"c\",\"c\",\"c\",\"c\",\"b\",\"b\",\"b\",\"b\",\"b\",\"b\",\"b\",\"b\",\"b\",\"b\",\"b\",\"b\",\"b\",\"b\",\"b\",\"b\",\"b\",\"b\",\"b\",\"b\",\"b\"]\n",
       "}\n",
       "}],\n",
       "\"computation_messages\":[\"sampling_pick(n=50) was applied to [bar/count stat] layer\"]\n",
       "};\n",
       "           var plotContainer = document.getElementById(\"qpwu1K\");\n",
       "           window.letsPlotCall(function() {{\n",
       "               LetsPlot.buildPlotFromProcessedSpecs(plotSpec, -1, -1, plotContainer);\n",
       "           }});\n",
       "       })();    \n",
       "   </script>"
      ],
      "text/plain": [
       "<lets_plot.plot.core.PlotSpec at 0x7ff3b03be790>"
      ]
     },
     "execution_count": 6,
     "metadata": {},
     "output_type": "execute_result"
    }
   ],
   "source": [
    "# 'pick' sampling preserves groups on bar chart.\n",
    "p + geom_bar(aes(fill='g'))"
   ]
  }
 ],
 "metadata": {
  "kernelspec": {
   "display_name": "Python 3",
   "language": "python",
   "name": "python3"
  },
  "language_info": {
   "codemirror_mode": {
    "name": "ipython",
    "version": 3
   },
   "file_extension": ".py",
   "mimetype": "text/x-python",
   "name": "python",
   "nbconvert_exporter": "python",
   "pygments_lexer": "ipython3",
   "version": "3.7.10"
  }
 },
 "nbformat": 4,
 "nbformat_minor": 1
}